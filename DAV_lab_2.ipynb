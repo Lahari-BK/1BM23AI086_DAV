{
  "cells": [
    {
      "cell_type": "code",
      "execution_count": null,
      "id": "70fc1cc5-8b48-4bfa-a9fa-d7b47e4f5404",
      "metadata": {
        "id": "70fc1cc5-8b48-4bfa-a9fa-d7b47e4f5404",
        "outputId": "f82d416f-eb85-461e-e521-7342375433e6"
      },
      "outputs": [
        {
          "name": "stdout",
          "output_type": "stream",
          "text": [
            "ID                    0\n",
            "Age                   2\n",
            "Gender                0\n",
            "Income                1\n",
            "Occupation            3\n",
            "Years_Employed        1\n",
            "Satisfaction_Level    2\n",
            "Purchase_History      0\n",
            "dtype: int64\n",
            "Outliers in Income: []\n",
            "   ID   Age  Gender    Income       Occupation  Years_Employed  \\\n",
            "0   1  25.0    Male   50000.0         Engineer             2.0   \n",
            "1   2  37.0  Female   62000.0   Data Scientist             5.0   \n",
            "2   3   NaN    Male   45000.0        Executive             3.0   \n",
            "3   4  29.0  Female   54000.0  Product Manager             7.0   \n",
            "4   5  42.0    Male       NaN            Sales             8.0   \n",
            "5   6  55.0  Female  100000.0        Executive            30.0   \n",
            "6   7  23.0    Male   52000.0        Executive             2.0   \n",
            "7   8  29.0  Female   70000.0  Product Manager             6.0   \n",
            "8   9   NaN    Male  200000.0        Executive            15.0   \n",
            "9  10  45.0  Female   65000.0        Executive             6.0   \n",
            "\n",
            "   Satisfaction_Level Purchase_History Satisfaction_Binary  \\\n",
            "0              0.8000             High                High   \n",
            "1              0.6875           Medium                 Low   \n",
            "2              0.6000              Low                 Low   \n",
            "3              0.7000              Low                 Low   \n",
            "4              0.5000              Low                 Low   \n",
            "5              0.9000             High                High   \n",
            "6              0.4000           Medium                 Low   \n",
            "7              0.7000           Medium                 Low   \n",
            "8              0.9000              Low                High   \n",
            "9              0.6875             High                 Low   \n",
            "\n",
            "   Purchase_History_Num  \n",
            "0                     2  \n",
            "1                     1  \n",
            "2                     0  \n",
            "3                     0  \n",
            "4                     0  \n",
            "5                     2  \n",
            "6                     1  \n",
            "7                     1  \n",
            "8                     0  \n",
            "9                     2  \n"
          ]
        }
      ],
      "source": [
        "import pandas as pd\n",
        "import numpy as np\n",
        "from scipy import stats\n",
        "\n",
        "df = pd.read_csv(\"employee_dataset.csv\")\n",
        "\n",
        "print(df.isnull().sum())\n",
        "df['Occupation'] = df['Occupation'].fillna(df['Occupation'].mode()[0])\n",
        "df['Satisfaction_Level'] = df['Satisfaction_Level'].fillna(df['Satisfaction_Level'].mean())\n",
        "\n",
        "df['Satisfaction_Binary'] = df['Satisfaction_Level'].apply(lambda x: 'High' if x>0.7 else 'Low')\n",
        "df['Purchase_History_Num'] = df['Purchase_History'].map({\"High\":2,\"Medium\":1,\"Low\":0})\n",
        "\n",
        "z_scores = np.abs(stats.zscore(df['Income'].dropna()))\n",
        "outliers = df['Income'].dropna()[z_scores>3]\n",
        "print(\"Outliers in Income:\", outliers.values)\n",
        "\n",
        "df['Years_Employed'] = df['Years_Employed'].fillna(df['Years_Employed'].median())\n",
        "\n",
        "print(df)\n"
      ]
    }
  ],
  "metadata": {
    "kernelspec": {
      "display_name": "Python 3 (ipykernel)",
      "language": "python",
      "name": "python3"
    },
    "language_info": {
      "codemirror_mode": {
        "name": "ipython",
        "version": 3
      },
      "file_extension": ".py",
      "mimetype": "text/x-python",
      "name": "python",
      "nbconvert_exporter": "python",
      "pygments_lexer": "ipython3",
      "version": "3.12.6"
    },
    "colab": {
      "provenance": []
    }
  },
  "nbformat": 4,
  "nbformat_minor": 5
}